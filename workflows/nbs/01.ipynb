{
 "cells": [
  {
   "cell_type": "code",
   "execution_count": 8,
   "metadata": {},
   "outputs": [
    {
     "name": "stdout",
     "output_type": "stream",
     "text": [
      "01\n",
      "\n",
      "2\n",
      "3\n",
      "4\n",
      "temp/d7fb94a9-54b9-47ca-a164-10eede05cfc2/my_inputs_0.zip\n",
      "temp/d7fb94a9-54b9-47ca-a164-10eede05cfc2/my_inputs_40.zip\n",
      "temp/d7fb94a9-54b9-47ca-a164-10eede05cfc2/my_inputs_60.zip\n",
      "temp/d7fb94a9-54b9-47ca-a164-10eede05cfc2/my_inputs_20.zip\n",
      "temp/d7fb94a9-54b9-47ca-a164-10eede05cfc2/my_inputs_80.zip\n",
      "5\n",
      "temp/d7fb94a9-54b9-47ca-a164-10eede05cfc2/my_inputs_100.zip\n",
      "6\n",
      "temp/d7fb94a9-54b9-47ca-a164-10eede05cfc2/my_inputs_120.zip\n",
      "7\n",
      "temp/d7fb94a9-54b9-47ca-a164-10eede05cfc2/my_inputs_140.zip\n",
      "8\n",
      "temp/d7fb94a9-54b9-47ca-a164-10eede05cfc2/my_inputs_160.zip\n",
      "9\n",
      "temp/d7fb94a9-54b9-47ca-a164-10eede05cfc2/my_inputs_180.zip\n"
     ]
    }
   ],
   "source": [
    "from concurrent.futures import ThreadPoolExecutor\n",
    "from pyrorb import client\n",
    "from pathlib import Path\n",
    "from pyrorb import file_manager\n",
    "import uuid\n",
    "from glob import glob\n",
    "import os\n",
    "from pyrorb.config_manager import ConfigManager\n",
    "config_manager = ConfigManager('../../config.json')\n",
    "\n",
    "ENDPOINT =config_manager.get('endpoint')\n",
    "def process_chunk(chunk_index):\n",
    "    i = chunk_index * n\n",
    "    file_list = [catg_file] + storm_files[i:i+n]\n",
    "    parameters = file_manager.make_par_files(file_list, save_path, k=1.5, m=0.8, il=20, cl=2)\n",
    "    file_manager.create_text_files(parameters)\n",
    "    zip_filename = save_path / f'my_inputs_{i}.zip'\n",
    "    file_manager.create_zip(file_list + list(parameters.keys()), zip_filename)\n",
    "    req_url = config_manager\n",
    "    client.send_zip(zip_filename, req_url=req_url, save_dir=save_path)\n",
    "    for par_file in parameters.keys():\n",
    "        os.remove(par_file)\n",
    "\n",
    "    # Remove the input zip file\n",
    "    os.remove(save_path / f'my_inputs_{i}.zip')\n",
    "\n",
    "# Your existing code\n",
    "tp = Path('temp')\n",
    "tp.mkdir(exist_ok=True)\n",
    "\n",
    "save_path = tp / str(uuid.uuid4())\n",
    "save_path.mkdir(exist_ok=True)\n",
    "\n",
    "n = 20\n",
    "bp=Path('/home/ashkan/sana_rorb_may24/RORB')\n",
    "catg_file = str(bp/'Post-Developed-Storage sizing.catg')\n",
    "storm_files = [str(x) for x in bp.glob('*.stm')][0:20]\n",
    "\n",
    "# Calculate the number of chunks\n",
    "num_chunks = len(storm_files) // n\n",
    "\n",
    "# Use a ThreadPoolExecutor to run the tasks in parallel\n",
    "with ThreadPoolExecutor(max_workers=5) as executor:\n",
    "    executor.map(process_chunk, range(num_chunks))\n"
   ]
  },
  {
   "cell_type": "code",
   "execution_count": null,
   "metadata": {},
   "outputs": [],
   "source": []
  }
 ],
 "metadata": {
  "kernelspec": {
   "display_name": ".venv",
   "language": "python",
   "name": "python3"
  },
  "language_info": {
   "codemirror_mode": {
    "name": "ipython",
    "version": 3
   },
   "file_extension": ".py",
   "mimetype": "text/x-python",
   "name": "python",
   "nbconvert_exporter": "python",
   "pygments_lexer": "ipython3",
   "version": "3.10.12"
  }
 },
 "nbformat": 4,
 "nbformat_minor": 2
}
