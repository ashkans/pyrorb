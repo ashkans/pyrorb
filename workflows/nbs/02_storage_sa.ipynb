{
 "cells": [
  {
   "cell_type": "code",
   "execution_count": 4,
   "metadata": {},
   "outputs": [],
   "source": [
    "from concurrent.futures import ThreadPoolExecutor\n",
    "from pyrorb.client import RorbClient\n",
    "from pyrorb.file_manager import FileManager\n",
    "from pathlib import Path\n",
    "import uuid\n",
    "from pyrorb.config_manager import ConfigManager\n",
    "\n",
    "config_manager = ConfigManager('../../config.json')\n",
    "\n",
    "ENDPOINT =config_manager.get('endpoint')\n",
    "\n",
    "class RorbProcessor:\n",
    "    def __init__(self, catg_files, storm_files, save_path='temp', folder_name=None):\n",
    "        \n",
    "        \n",
    "        self.folder_name=folder_name or str(uuid.uuid4())\n",
    "        self.save_path = Path(save_path) / self.folder_name\n",
    "        self.save_path.mkdir(parents=True, exist_ok=True)\n",
    "\n",
    "        self.endpoint=ENDPOINT\n",
    "        self.catg_files = catg_files\n",
    "        self.storm_files=storm_files\n",
    "\n",
    "        \n",
    "        self.kc=4.35\n",
    "        self.m=0.8\n",
    "        self.il=18\n",
    "        self.cl=7\n",
    "\n",
    "\n",
    "        self.fm = FileManager(self.save_path)\n",
    "        self.rorb_client = RorbClient(self.save_path, self.endpoint)\n",
    "\n",
    "        self.chunk_size=20\n",
    "\n",
    "        self.to_be_cleared=[]\n",
    "    \n",
    "    def amend_catg(self, find_text, replace_with, suffix=None):\n",
    "        # TODO: make sure only and only one occurance of the find_txt is there.\n",
    "        self.original_catg_files = self.catg_files\n",
    "        new_catg_files = []\n",
    "        suffix = suffix or str(uuid.uuid4())[:4]\n",
    "        for file in self.catg_files:\n",
    "            save_to = self.save_path/(Path(file).stem+suffix+Path(file).suffix)\n",
    "            with open(file, 'r') as f:\n",
    "                txt = f.read()\n",
    "            txt=txt.replace(find_text, replace_with)\n",
    "\n",
    "            with open(save_to, 'w') as f:\n",
    "                f.write(txt)\n",
    "\n",
    "            new_catg_files.append(save_to)\n",
    "        self.catg_files= new_catg_files\n",
    "        self.to_be_cleared += new_catg_files\n",
    "\n",
    "    @property\n",
    "    def file_list(self):\n",
    "        return self.catg_files+self.storm_files\n",
    "    \n",
    "    @property\n",
    "    def parameters(self):\n",
    "        \n",
    "        return self.fm.create_parameters(self.file_list, self.kc, self.m,self.il, self.cl)      \n",
    "\n",
    "    @property\n",
    "    def parameter_keys(self):\n",
    "        return list(self.parameters.keys())\n",
    "\n",
    "    def process_chunk(self, chunk_index):\n",
    "        i = chunk_index * self.chunk_size\n",
    "        zip_filename = self.fm.create_zip(self.file_list + self.parameter_keys[i:i+self.chunk_size], i)\n",
    "        self.rorb_client.send_zip(zip_filename)\n",
    "        self.to_be_cleared += list(self.parameters.keys()) + [zip_filename]\n",
    "\n",
    "    def cleanup(self):\n",
    "        self.fm.cleanup_files(self.to_be_cleared)\n",
    "        self.to_be_cleared=[]\n",
    "        self.catg_files=self.original_catg_files\n",
    "        \n",
    "\n",
    "    def run_parallel(self):\n",
    "        # This is only works for complete chunks, should be fixed.\n",
    "        num_chunks = len(self.parameters) // self.chunk_size\n",
    "        with ThreadPoolExecutor(max_workers=5) as executor:\n",
    "            executor.map(self.process_chunk, range(num_chunks))\n",
    "\n",
    "\n",
    "# Main execution\n",
    "if __name__ == \"__main__\":\n",
    "    x=1.1\n",
    "    catg_files = ['/home/ashkan/sana_rorb_may24/RORB/Post-Developed-Storage sizing.catg']\n",
    "    storm_files = [str(x) for x in Path('/home/ashkan/sana_rorb_may24/RORB/').glob('*.stm')][0:40]\n",
    "    processor = RorbProcessor(catg_files, storm_files, folder_name=f'storage_coef_{x}')\n",
    "    \n",
    "    old_text = '''C Elevation-storage relationship\n",
    "    1, 12, Elevation-storage table (2 values x 12 lines)                                                                                                         \n",
    "                0.000,              0.000, \n",
    "                78.800,            437.920, \n",
    "                78.900,            458.200, \n",
    "                79.000,            478.270, \n",
    "                79.100,            498.100, \n",
    "                79.200,            518.420, \n",
    "                79.300,            539.250, \n",
    "                79.400,            560.990, \n",
    "                79.500,            584.430, \n",
    "                79.600,            609.630, \n",
    "                80.000,            709.630, \n",
    "                85.000,           1000.000, \n",
    "    -99\n",
    "    '''\n",
    "\n",
    "    new_text=f'''C Elevation-storage relationship\n",
    "    1, 12, Elevation-storage table (2 values x 12 lines)                                                                                                         \n",
    "                0.000,               {0.00*x}, \n",
    "                78.800,            {4379.20*x}, \n",
    "                78.900,            {4582.00*x}, \n",
    "                79.000,            {4782.70*x}, \n",
    "                79.100,            {4981.00*x}, \n",
    "                79.200,            {5184.20*x}, \n",
    "                79.300,            {5392.50*x}, \n",
    "                79.400,            {5609.90*x}, \n",
    "                79.500,            {5844.30*x}, \n",
    "                79.600,            {6096.30*x}, \n",
    "                80.000,            {7096.30*x}, \n",
    "                85.000,           {10000.00*x}, \n",
    "    -99\n",
    "    '''\n",
    "    processor.amend_catg(old_text, new_text, suffix=f'_{x}x')    \n",
    "    processor.run_parallel()\n",
    "\n",
    "\n"
   ]
  },
  {
   "cell_type": "code",
   "execution_count": 3,
   "metadata": {},
   "outputs": [
    {
     "data": {
      "text/plain": [
       "'/home/ashkan/projects/pyrorb/workflows/nbs'"
      ]
     },
     "execution_count": 3,
     "metadata": {},
     "output_type": "execute_result"
    }
   ],
   "source": [
    "pwd"
   ]
  },
  {
   "cell_type": "code",
   "execution_count": 5,
   "metadata": {},
   "outputs": [
    {
     "data": {
      "text/plain": [
       "{PosixPath('temp/storage_coef_1.1/Post-Developed-Storage sizing_1.1x_Post-Developed-Storage sizing_ aep1_du1_5hourtp21.par'): '# BEGIN\\nCat file :Post-Developed-Storage sizing_1.1x.catg\\nStm file :Post-Developed-Storage sizing_ aep1_du1_5hourtp21.stm\\nLumped kc:T\\nVerbosity:3\\nLossmodel:1\\nNum ISA  :1\\nISA 1    :1.5,0.8\\nNum burst:1\\nISA 1    :20,2\\n# END',\n",
       " PosixPath('temp/storage_coef_1.1/Post-Developed-Storage sizing_1.1x_Post-Developed-Storage sizing_ aep1_du10mintp30.par'): '# BEGIN\\nCat file :Post-Developed-Storage sizing_1.1x.catg\\nStm file :Post-Developed-Storage sizing_ aep1_du10mintp30.stm\\nLumped kc:T\\nVerbosity:3\\nLossmodel:1\\nNum ISA  :1\\nISA 1    :1.5,0.8\\nNum burst:1\\nISA 1    :20,2\\n# END',\n",
       " PosixPath('temp/storage_coef_1.1/Post-Developed-Storage sizing_1.1x_Post-Developed-Storage sizing_ aep1_du18hourtp21.par'): '# BEGIN\\nCat file :Post-Developed-Storage sizing_1.1x.catg\\nStm file :Post-Developed-Storage sizing_ aep1_du18hourtp21.stm\\nLumped kc:T\\nVerbosity:3\\nLossmodel:1\\nNum ISA  :1\\nISA 1    :1.5,0.8\\nNum burst:1\\nISA 1    :20,2\\n# END',\n",
       " PosixPath('temp/storage_coef_1.1/Post-Developed-Storage sizing_1.1x_Post-Developed-Storage sizing_ aep1_du3hourtp23.par'): '# BEGIN\\nCat file :Post-Developed-Storage sizing_1.1x.catg\\nStm file :Post-Developed-Storage sizing_ aep1_du3hourtp23.stm\\nLumped kc:T\\nVerbosity:3\\nLossmodel:1\\nNum ISA  :1\\nISA 1    :1.5,0.8\\nNum burst:1\\nISA 1    :20,2\\n# END',\n",
       " PosixPath('temp/storage_coef_1.1/Post-Developed-Storage sizing_1.1x_Post-Developed-Storage sizing_ aep1_du1hourtp23.par'): '# BEGIN\\nCat file :Post-Developed-Storage sizing_1.1x.catg\\nStm file :Post-Developed-Storage sizing_ aep1_du1hourtp23.stm\\nLumped kc:T\\nVerbosity:3\\nLossmodel:1\\nNum ISA  :1\\nISA 1    :1.5,0.8\\nNum burst:1\\nISA 1    :20,2\\n# END',\n",
       " PosixPath('temp/storage_coef_1.1/Post-Developed-Storage sizing_1.1x_Post-Developed-Storage sizing_ aep1_du48hourtp27.par'): '# BEGIN\\nCat file :Post-Developed-Storage sizing_1.1x.catg\\nStm file :Post-Developed-Storage sizing_ aep1_du48hourtp27.stm\\nLumped kc:T\\nVerbosity:3\\nLossmodel:1\\nNum ISA  :1\\nISA 1    :1.5,0.8\\nNum burst:1\\nISA 1    :20,2\\n# END',\n",
       " PosixPath('temp/storage_coef_1.1/Post-Developed-Storage sizing_1.1x_Post-Developed-Storage sizing_ aep1_du36hourtp26.par'): '# BEGIN\\nCat file :Post-Developed-Storage sizing_1.1x.catg\\nStm file :Post-Developed-Storage sizing_ aep1_du36hourtp26.stm\\nLumped kc:T\\nVerbosity:3\\nLossmodel:1\\nNum ISA  :1\\nISA 1    :1.5,0.8\\nNum burst:1\\nISA 1    :20,2\\n# END',\n",
       " PosixPath('temp/storage_coef_1.1/Post-Developed-Storage sizing_1.1x_Post-Developed-Storage sizing_ aep1_du1_5hourtp27.par'): '# BEGIN\\nCat file :Post-Developed-Storage sizing_1.1x.catg\\nStm file :Post-Developed-Storage sizing_ aep1_du1_5hourtp27.stm\\nLumped kc:T\\nVerbosity:3\\nLossmodel:1\\nNum ISA  :1\\nISA 1    :1.5,0.8\\nNum burst:1\\nISA 1    :20,2\\n# END',\n",
       " PosixPath('temp/storage_coef_1.1/Post-Developed-Storage sizing_1.1x_Post-Developed-Storage sizing_ aep1_du2hourtp24.par'): '# BEGIN\\nCat file :Post-Developed-Storage sizing_1.1x.catg\\nStm file :Post-Developed-Storage sizing_ aep1_du2hourtp24.stm\\nLumped kc:T\\nVerbosity:3\\nLossmodel:1\\nNum ISA  :1\\nISA 1    :1.5,0.8\\nNum burst:1\\nISA 1    :20,2\\n# END',\n",
       " PosixPath('temp/storage_coef_1.1/Post-Developed-Storage sizing_1.1x_Post-Developed-Storage sizing_ aep1_du20mintp27.par'): '# BEGIN\\nCat file :Post-Developed-Storage sizing_1.1x.catg\\nStm file :Post-Developed-Storage sizing_ aep1_du20mintp27.stm\\nLumped kc:T\\nVerbosity:3\\nLossmodel:1\\nNum ISA  :1\\nISA 1    :1.5,0.8\\nNum burst:1\\nISA 1    :20,2\\n# END',\n",
       " PosixPath('temp/storage_coef_1.1/Post-Developed-Storage sizing_1.1x_Post-Developed-Storage sizing_ aep1_du4_5hourtp24.par'): '# BEGIN\\nCat file :Post-Developed-Storage sizing_1.1x.catg\\nStm file :Post-Developed-Storage sizing_ aep1_du4_5hourtp24.stm\\nLumped kc:T\\nVerbosity:3\\nLossmodel:1\\nNum ISA  :1\\nISA 1    :1.5,0.8\\nNum burst:1\\nISA 1    :20,2\\n# END',\n",
       " PosixPath('temp/storage_coef_1.1/Post-Developed-Storage sizing_1.1x_Post-Developed-Storage sizing_ aep1_du6hourtp23.par'): '# BEGIN\\nCat file :Post-Developed-Storage sizing_1.1x.catg\\nStm file :Post-Developed-Storage sizing_ aep1_du6hourtp23.stm\\nLumped kc:T\\nVerbosity:3\\nLossmodel:1\\nNum ISA  :1\\nISA 1    :1.5,0.8\\nNum burst:1\\nISA 1    :20,2\\n# END',\n",
       " PosixPath('temp/storage_coef_1.1/Post-Developed-Storage sizing_1.1x_Post-Developed-Storage sizing_ aep1_du30mintp22.par'): '# BEGIN\\nCat file :Post-Developed-Storage sizing_1.1x.catg\\nStm file :Post-Developed-Storage sizing_ aep1_du30mintp22.stm\\nLumped kc:T\\nVerbosity:3\\nLossmodel:1\\nNum ISA  :1\\nISA 1    :1.5,0.8\\nNum burst:1\\nISA 1    :20,2\\n# END',\n",
       " PosixPath('temp/storage_coef_1.1/Post-Developed-Storage sizing_1.1x_Post-Developed-Storage sizing_ aep1_du1hourtp28.par'): '# BEGIN\\nCat file :Post-Developed-Storage sizing_1.1x.catg\\nStm file :Post-Developed-Storage sizing_ aep1_du1hourtp28.stm\\nLumped kc:T\\nVerbosity:3\\nLossmodel:1\\nNum ISA  :1\\nISA 1    :1.5,0.8\\nNum burst:1\\nISA 1    :20,2\\n# END',\n",
       " PosixPath('temp/storage_coef_1.1/Post-Developed-Storage sizing_1.1x_Post-Developed-Storage sizing_ aep1_du4_5hourtp23.par'): '# BEGIN\\nCat file :Post-Developed-Storage sizing_1.1x.catg\\nStm file :Post-Developed-Storage sizing_ aep1_du4_5hourtp23.stm\\nLumped kc:T\\nVerbosity:3\\nLossmodel:1\\nNum ISA  :1\\nISA 1    :1.5,0.8\\nNum burst:1\\nISA 1    :20,2\\n# END',\n",
       " PosixPath('temp/storage_coef_1.1/Post-Developed-Storage sizing_1.1x_Post-Developed-Storage sizing_ aep1_du12hourtp21.par'): '# BEGIN\\nCat file :Post-Developed-Storage sizing_1.1x.catg\\nStm file :Post-Developed-Storage sizing_ aep1_du12hourtp21.stm\\nLumped kc:T\\nVerbosity:3\\nLossmodel:1\\nNum ISA  :1\\nISA 1    :1.5,0.8\\nNum burst:1\\nISA 1    :20,2\\n# END',\n",
       " PosixPath('temp/storage_coef_1.1/Post-Developed-Storage sizing_1.1x_Post-Developed-Storage sizing_ aep1_du9hourtp21.par'): '# BEGIN\\nCat file :Post-Developed-Storage sizing_1.1x.catg\\nStm file :Post-Developed-Storage sizing_ aep1_du9hourtp21.stm\\nLumped kc:T\\nVerbosity:3\\nLossmodel:1\\nNum ISA  :1\\nISA 1    :1.5,0.8\\nNum burst:1\\nISA 1    :20,2\\n# END',\n",
       " PosixPath('temp/storage_coef_1.1/Post-Developed-Storage sizing_1.1x_Post-Developed-Storage sizing_ aep1_du2hourtp26.par'): '# BEGIN\\nCat file :Post-Developed-Storage sizing_1.1x.catg\\nStm file :Post-Developed-Storage sizing_ aep1_du2hourtp26.stm\\nLumped kc:T\\nVerbosity:3\\nLossmodel:1\\nNum ISA  :1\\nISA 1    :1.5,0.8\\nNum burst:1\\nISA 1    :20,2\\n# END',\n",
       " PosixPath('temp/storage_coef_1.1/Post-Developed-Storage sizing_1.1x_Post-Developed-Storage sizing_ aep1_du25mintp25.par'): '# BEGIN\\nCat file :Post-Developed-Storage sizing_1.1x.catg\\nStm file :Post-Developed-Storage sizing_ aep1_du25mintp25.stm\\nLumped kc:T\\nVerbosity:3\\nLossmodel:1\\nNum ISA  :1\\nISA 1    :1.5,0.8\\nNum burst:1\\nISA 1    :20,2\\n# END',\n",
       " PosixPath('temp/storage_coef_1.1/Post-Developed-Storage sizing_1.1x_Post-Developed-Storage sizing_ aep1_du12hourtp23.par'): '# BEGIN\\nCat file :Post-Developed-Storage sizing_1.1x.catg\\nStm file :Post-Developed-Storage sizing_ aep1_du12hourtp23.stm\\nLumped kc:T\\nVerbosity:3\\nLossmodel:1\\nNum ISA  :1\\nISA 1    :1.5,0.8\\nNum burst:1\\nISA 1    :20,2\\n# END',\n",
       " PosixPath('temp/storage_coef_1.1/Post-Developed-Storage sizing_1.1x_Post-Developed-Storage sizing_ aep1_du3hourtp30.par'): '# BEGIN\\nCat file :Post-Developed-Storage sizing_1.1x.catg\\nStm file :Post-Developed-Storage sizing_ aep1_du3hourtp30.stm\\nLumped kc:T\\nVerbosity:3\\nLossmodel:1\\nNum ISA  :1\\nISA 1    :1.5,0.8\\nNum burst:1\\nISA 1    :20,2\\n# END',\n",
       " PosixPath('temp/storage_coef_1.1/Post-Developed-Storage sizing_1.1x_Post-Developed-Storage sizing_ aep1_du15mintp23.par'): '# BEGIN\\nCat file :Post-Developed-Storage sizing_1.1x.catg\\nStm file :Post-Developed-Storage sizing_ aep1_du15mintp23.stm\\nLumped kc:T\\nVerbosity:3\\nLossmodel:1\\nNum ISA  :1\\nISA 1    :1.5,0.8\\nNum burst:1\\nISA 1    :20,2\\n# END',\n",
       " PosixPath('temp/storage_coef_1.1/Post-Developed-Storage sizing_1.1x_Post-Developed-Storage sizing_ aep1_du18hourtp30.par'): '# BEGIN\\nCat file :Post-Developed-Storage sizing_1.1x.catg\\nStm file :Post-Developed-Storage sizing_ aep1_du18hourtp30.stm\\nLumped kc:T\\nVerbosity:3\\nLossmodel:1\\nNum ISA  :1\\nISA 1    :1.5,0.8\\nNum burst:1\\nISA 1    :20,2\\n# END',\n",
       " PosixPath('temp/storage_coef_1.1/Post-Developed-Storage sizing_1.1x_Post-Developed-Storage sizing_ aep1_du45mintp24.par'): '# BEGIN\\nCat file :Post-Developed-Storage sizing_1.1x.catg\\nStm file :Post-Developed-Storage sizing_ aep1_du45mintp24.stm\\nLumped kc:T\\nVerbosity:3\\nLossmodel:1\\nNum ISA  :1\\nISA 1    :1.5,0.8\\nNum burst:1\\nISA 1    :20,2\\n# END',\n",
       " PosixPath('temp/storage_coef_1.1/Post-Developed-Storage sizing_1.1x_Post-Developed-Storage sizing_ aep1_du25mintp21.par'): '# BEGIN\\nCat file :Post-Developed-Storage sizing_1.1x.catg\\nStm file :Post-Developed-Storage sizing_ aep1_du25mintp21.stm\\nLumped kc:T\\nVerbosity:3\\nLossmodel:1\\nNum ISA  :1\\nISA 1    :1.5,0.8\\nNum burst:1\\nISA 1    :20,2\\n# END',\n",
       " PosixPath('temp/storage_coef_1.1/Post-Developed-Storage sizing_1.1x_Post-Developed-Storage sizing_ aep1_du1hourtp21.par'): '# BEGIN\\nCat file :Post-Developed-Storage sizing_1.1x.catg\\nStm file :Post-Developed-Storage sizing_ aep1_du1hourtp21.stm\\nLumped kc:T\\nVerbosity:3\\nLossmodel:1\\nNum ISA  :1\\nISA 1    :1.5,0.8\\nNum burst:1\\nISA 1    :20,2\\n# END',\n",
       " PosixPath('temp/storage_coef_1.1/Post-Developed-Storage sizing_1.1x_Post-Developed-Storage sizing_ aep1_du2hourtp21.par'): '# BEGIN\\nCat file :Post-Developed-Storage sizing_1.1x.catg\\nStm file :Post-Developed-Storage sizing_ aep1_du2hourtp21.stm\\nLumped kc:T\\nVerbosity:3\\nLossmodel:1\\nNum ISA  :1\\nISA 1    :1.5,0.8\\nNum burst:1\\nISA 1    :20,2\\n# END',\n",
       " PosixPath('temp/storage_coef_1.1/Post-Developed-Storage sizing_1.1x_Post-Developed-Storage sizing_ aep1_du24hourtp27.par'): '# BEGIN\\nCat file :Post-Developed-Storage sizing_1.1x.catg\\nStm file :Post-Developed-Storage sizing_ aep1_du24hourtp27.stm\\nLumped kc:T\\nVerbosity:3\\nLossmodel:1\\nNum ISA  :1\\nISA 1    :1.5,0.8\\nNum burst:1\\nISA 1    :20,2\\n# END',\n",
       " PosixPath('temp/storage_coef_1.1/Post-Developed-Storage sizing_1.1x_Post-Developed-Storage sizing_ aep1_du2hourtp30.par'): '# BEGIN\\nCat file :Post-Developed-Storage sizing_1.1x.catg\\nStm file :Post-Developed-Storage sizing_ aep1_du2hourtp30.stm\\nLumped kc:T\\nVerbosity:3\\nLossmodel:1\\nNum ISA  :1\\nISA 1    :1.5,0.8\\nNum burst:1\\nISA 1    :20,2\\n# END',\n",
       " PosixPath('temp/storage_coef_1.1/Post-Developed-Storage sizing_1.1x_Post-Developed-Storage sizing_ aep1_du4_5hourtp26.par'): '# BEGIN\\nCat file :Post-Developed-Storage sizing_1.1x.catg\\nStm file :Post-Developed-Storage sizing_ aep1_du4_5hourtp26.stm\\nLumped kc:T\\nVerbosity:3\\nLossmodel:1\\nNum ISA  :1\\nISA 1    :1.5,0.8\\nNum burst:1\\nISA 1    :20,2\\n# END',\n",
       " PosixPath('temp/storage_coef_1.1/Post-Developed-Storage sizing_1.1x_Post-Developed-Storage sizing_ aep1_du1_5hourtp28.par'): '# BEGIN\\nCat file :Post-Developed-Storage sizing_1.1x.catg\\nStm file :Post-Developed-Storage sizing_ aep1_du1_5hourtp28.stm\\nLumped kc:T\\nVerbosity:3\\nLossmodel:1\\nNum ISA  :1\\nISA 1    :1.5,0.8\\nNum burst:1\\nISA 1    :20,2\\n# END',\n",
       " PosixPath('temp/storage_coef_1.1/Post-Developed-Storage sizing_1.1x_Post-Developed-Storage sizing_ aep1_du18hourtp27.par'): '# BEGIN\\nCat file :Post-Developed-Storage sizing_1.1x.catg\\nStm file :Post-Developed-Storage sizing_ aep1_du18hourtp27.stm\\nLumped kc:T\\nVerbosity:3\\nLossmodel:1\\nNum ISA  :1\\nISA 1    :1.5,0.8\\nNum burst:1\\nISA 1    :20,2\\n# END',\n",
       " PosixPath('temp/storage_coef_1.1/Post-Developed-Storage sizing_1.1x_Post-Developed-Storage sizing_ aep1_du3hourtp21.par'): '# BEGIN\\nCat file :Post-Developed-Storage sizing_1.1x.catg\\nStm file :Post-Developed-Storage sizing_ aep1_du3hourtp21.stm\\nLumped kc:T\\nVerbosity:3\\nLossmodel:1\\nNum ISA  :1\\nISA 1    :1.5,0.8\\nNum burst:1\\nISA 1    :20,2\\n# END',\n",
       " PosixPath('temp/storage_coef_1.1/Post-Developed-Storage sizing_1.1x_Post-Developed-Storage sizing_ aep1_du30mintp26.par'): '# BEGIN\\nCat file :Post-Developed-Storage sizing_1.1x.catg\\nStm file :Post-Developed-Storage sizing_ aep1_du30mintp26.stm\\nLumped kc:T\\nVerbosity:3\\nLossmodel:1\\nNum ISA  :1\\nISA 1    :1.5,0.8\\nNum burst:1\\nISA 1    :20,2\\n# END',\n",
       " PosixPath('temp/storage_coef_1.1/Post-Developed-Storage sizing_1.1x_Post-Developed-Storage sizing_ aep1_du15mintp22.par'): '# BEGIN\\nCat file :Post-Developed-Storage sizing_1.1x.catg\\nStm file :Post-Developed-Storage sizing_ aep1_du15mintp22.stm\\nLumped kc:T\\nVerbosity:3\\nLossmodel:1\\nNum ISA  :1\\nISA 1    :1.5,0.8\\nNum burst:1\\nISA 1    :20,2\\n# END',\n",
       " PosixPath('temp/storage_coef_1.1/Post-Developed-Storage sizing_1.1x_Post-Developed-Storage sizing_ aep1_du24hourtp28.par'): '# BEGIN\\nCat file :Post-Developed-Storage sizing_1.1x.catg\\nStm file :Post-Developed-Storage sizing_ aep1_du24hourtp28.stm\\nLumped kc:T\\nVerbosity:3\\nLossmodel:1\\nNum ISA  :1\\nISA 1    :1.5,0.8\\nNum burst:1\\nISA 1    :20,2\\n# END',\n",
       " PosixPath('temp/storage_coef_1.1/Post-Developed-Storage sizing_1.1x_Post-Developed-Storage sizing_ aep1_du18hourtp26.par'): '# BEGIN\\nCat file :Post-Developed-Storage sizing_1.1x.catg\\nStm file :Post-Developed-Storage sizing_ aep1_du18hourtp26.stm\\nLumped kc:T\\nVerbosity:3\\nLossmodel:1\\nNum ISA  :1\\nISA 1    :1.5,0.8\\nNum burst:1\\nISA 1    :20,2\\n# END',\n",
       " PosixPath('temp/storage_coef_1.1/Post-Developed-Storage sizing_1.1x_Post-Developed-Storage sizing_ aep1_du12hourtp25.par'): '# BEGIN\\nCat file :Post-Developed-Storage sizing_1.1x.catg\\nStm file :Post-Developed-Storage sizing_ aep1_du12hourtp25.stm\\nLumped kc:T\\nVerbosity:3\\nLossmodel:1\\nNum ISA  :1\\nISA 1    :1.5,0.8\\nNum burst:1\\nISA 1    :20,2\\n# END',\n",
       " PosixPath('temp/storage_coef_1.1/Post-Developed-Storage sizing_1.1x_Post-Developed-Storage sizing_ aep1_du10mintp22.par'): '# BEGIN\\nCat file :Post-Developed-Storage sizing_1.1x.catg\\nStm file :Post-Developed-Storage sizing_ aep1_du10mintp22.stm\\nLumped kc:T\\nVerbosity:3\\nLossmodel:1\\nNum ISA  :1\\nISA 1    :1.5,0.8\\nNum burst:1\\nISA 1    :20,2\\n# END',\n",
       " PosixPath('temp/storage_coef_1.1/Post-Developed-Storage sizing_1.1x_Post-Developed-Storage sizing_ aep1_du30mintp21.par'): '# BEGIN\\nCat file :Post-Developed-Storage sizing_1.1x.catg\\nStm file :Post-Developed-Storage sizing_ aep1_du30mintp21.stm\\nLumped kc:T\\nVerbosity:3\\nLossmodel:1\\nNum ISA  :1\\nISA 1    :1.5,0.8\\nNum burst:1\\nISA 1    :20,2\\n# END'}"
      ]
     },
     "execution_count": 5,
     "metadata": {},
     "output_type": "execute_result"
    }
   ],
   "source": [
    "processor.parameters"
   ]
  },
  {
   "cell_type": "code",
   "execution_count": 16,
   "metadata": {},
   "outputs": [
    {
     "name": "stdout",
     "output_type": "stream",
     "text": [
      "temp/3c5acb29-1dd0-4768-a97d-689b3e780019/Post-Developed-Storage sizingff27.catg\n"
     ]
    }
   ],
   "source": [
    "processor.cleanup()"
   ]
  },
  {
   "cell_type": "code",
   "execution_count": null,
   "metadata": {},
   "outputs": [],
   "source": []
  }
 ],
 "metadata": {
  "kernelspec": {
   "display_name": ".venv",
   "language": "python",
   "name": "python3"
  },
  "language_info": {
   "codemirror_mode": {
    "name": "ipython",
    "version": 3
   },
   "file_extension": ".py",
   "mimetype": "text/x-python",
   "name": "python",
   "nbconvert_exporter": "python",
   "pygments_lexer": "ipython3",
   "version": "3.10.12"
  }
 },
 "nbformat": 4,
 "nbformat_minor": 2
}
