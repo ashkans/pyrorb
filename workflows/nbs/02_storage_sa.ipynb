{
 "cells": [
  {
   "cell_type": "code",
   "execution_count": 4,
   "metadata": {},
   "outputs": [],
   "source": [
    "from concurrent.futures import ThreadPoolExecutor\n",
    "from pyrorb.client import RorbClient\n",
    "from pyrorb.file_manager import FileManager\n",
    "from pathlib import Path\n",
    "import uuid\n",
    "from pyrorb.config_manager import ConfigManager\n",
    "from pyrorb.rorb_processor import RorbProcessor\n",
    "\n",
    "config_manager = ConfigManager('../../config.json')\n",
    "ENDPOINT =config_manager.get('endpoint')\n",
    "\n",
    "\n",
    "# Main execution\n",
    "if __name__ == \"__main__\":\n",
    "    x=1.1\n",
    "    catg_files = ['/home/ashkan/sana_rorb_may24/RORB/Post-Developed-Storage sizing.catg']\n",
    "    storm_files = [str(x) for x in Path('/home/ashkan/sana_rorb_may24/RORB/').glob('*.stm')][0:40]\n",
    "    processor = RorbProcessor(catg_files, storm_files, ENDPOINT, folder_name=f'storage_coef_{x}')\n",
    "    \n",
    "    old_text = '''C Elevation-storage relationship\n",
    "    1, 12, Elevation-storage table (2 values x 12 lines)                                                                                                         \n",
    "                0.000,              0.000, \n",
    "                78.800,            437.920, \n",
    "                78.900,            458.200, \n",
    "                79.000,            478.270, \n",
    "                79.100,            498.100, \n",
    "                79.200,            518.420, \n",
    "                79.300,            539.250, \n",
    "                79.400,            560.990, \n",
    "                79.500,            584.430, \n",
    "                79.600,            609.630, \n",
    "                80.000,            709.630, \n",
    "                85.000,           1000.000, \n",
    "    -99\n",
    "    '''\n",
    "\n",
    "    new_text=f'''C Elevation-storage relationship\n",
    "    1, 12, Elevation-storage table (2 values x 12 lines)                                                                                                         \n",
    "                0.000,               {0.00*x}, \n",
    "                78.800,            {4379.20*x}, \n",
    "                78.900,            {4582.00*x}, \n",
    "                79.000,            {4782.70*x}, \n",
    "                79.100,            {4981.00*x}, \n",
    "                79.200,            {5184.20*x}, \n",
    "                79.300,            {5392.50*x}, \n",
    "                79.400,            {5609.90*x}, \n",
    "                79.500,            {5844.30*x}, \n",
    "                79.600,            {6096.30*x}, \n",
    "                80.000,            {7096.30*x}, \n",
    "                85.000,           {10000.00*x}, \n",
    "    -99\n",
    "    '''\n",
    "    processor.amend_catg(old_text, new_text, suffix=f'_{x}x')    \n",
    "    processor.run_parallel()\n",
    "\n",
    "\n"
   ]
  },
  {
   "cell_type": "code",
   "execution_count": 1,
   "metadata": {},
   "outputs": [
    {
     "data": {
      "text/plain": [
       "'/home/user/pyrorb/workflows/nbs'"
      ]
     },
     "execution_count": 1,
     "metadata": {},
     "output_type": "execute_result"
    }
   ],
   "source": [
    "pwd"
   ]
  },
  {
   "cell_type": "code",
   "execution_count": null,
   "metadata": {},
   "outputs": [
    {
     "data": {
      "text/plain": [
       "{PosixPath('temp/storage_coef_1.1/Post-Developed-Storage sizing_1.1x_Post-Developed-Storage sizing_ aep1_du1_5hourtp21.par'): '# BEGIN\\nCat file :Post-Developed-Storage sizing_1.1x.catg\\nStm file :Post-Developed-Storage sizing_ aep1_du1_5hourtp21.stm\\nLumped kc:T\\nVerbosity:3\\nLossmodel:1\\nNum ISA  :1\\nISA 1    :1.5,0.8\\nNum burst:1\\nISA 1    :20,2\\n# END',\n",
       " PosixPath('temp/storage_coef_1.1/Post-Developed-Storage sizing_1.1x_Post-Developed-Storage sizing_ aep1_du10mintp30.par'): '# BEGIN\\nCat file :Post-Developed-Storage sizing_1.1x.catg\\nStm file :Post-Developed-Storage sizing_ aep1_du10mintp30.stm\\nLumped kc:T\\nVerbosity:3\\nLossmodel:1\\nNum ISA  :1\\nISA 1    :1.5,0.8\\nNum burst:1\\nISA 1    :20,2\\n# END',\n",
       " PosixPath('temp/storage_coef_1.1/Post-Developed-Storage sizing_1.1x_Post-Developed-Storage sizing_ aep1_du18hourtp21.par'): '# BEGIN\\nCat file :Post-Developed-Storage sizing_1.1x.catg\\nStm file :Post-Developed-Storage sizing_ aep1_du18hourtp21.stm\\nLumped kc:T\\nVerbosity:3\\nLossmodel:1\\nNum ISA  :1\\nISA 1    :1.5,0.8\\nNum burst:1\\nISA 1    :20,2\\n# END',\n",
       " PosixPath('temp/storage_coef_1.1/Post-Developed-Storage sizing_1.1x_Post-Developed-Storage sizing_ aep1_du3hourtp23.par'): '# BEGIN\\nCat file :Post-Developed-Storage sizing_1.1x.catg\\nStm file :Post-Developed-Storage sizing_ aep1_du3hourtp23.stm\\nLumped kc:T\\nVerbosity:3\\nLossmodel:1\\nNum ISA  :1\\nISA 1    :1.5,0.8\\nNum burst:1\\nISA 1    :20,2\\n# END',\n",
       " PosixPath('temp/storage_coef_1.1/Post-Developed-Storage sizing_1.1x_Post-Developed-Storage sizing_ aep1_du1hourtp23.par'): '# BEGIN\\nCat file :Post-Developed-Storage sizing_1.1x.catg\\nStm file :Post-Developed-Storage sizing_ aep1_du1hourtp23.stm\\nLumped kc:T\\nVerbosity:3\\nLossmodel:1\\nNum ISA  :1\\nISA 1    :1.5,0.8\\nNum burst:1\\nISA 1    :20,2\\n# END',\n",
       " PosixPath('temp/storage_coef_1.1/Post-Developed-Storage sizing_1.1x_Post-Developed-Storage sizing_ aep1_du48hourtp27.par'): '# BEGIN\\nCat file :Post-Developed-Storage sizing_1.1x.catg\\nStm file :Post-Developed-Storage sizing_ aep1_du48hourtp27.stm\\nLumped kc:T\\nVerbosity:3\\nLossmodel:1\\nNum ISA  :1\\nISA 1    :1.5,0.8\\nNum burst:1\\nISA 1    :20,2\\n# END',\n",
       " PosixPath('temp/storage_coef_1.1/Post-Developed-Storage sizing_1.1x_Post-Developed-Storage sizing_ aep1_du36hourtp26.par'): '# BEGIN\\nCat file :Post-Developed-Storage sizing_1.1x.catg\\nStm file :Post-Developed-Storage sizing_ aep1_du36hourtp26.stm\\nLumped kc:T\\nVerbosity:3\\nLossmodel:1\\nNum ISA  :1\\nISA 1    :1.5,0.8\\nNum burst:1\\nISA 1    :20,2\\n# END',\n",
       " PosixPath('temp/storage_coef_1.1/Post-Developed-Storage sizing_1.1x_Post-Developed-Storage sizing_ aep1_du1_5hourtp27.par'): '# BEGIN\\nCat file :Post-Developed-Storage sizing_1.1x.catg\\nStm file :Post-Developed-Storage sizing_ aep1_du1_5hourtp27.stm\\nLumped kc:T\\nVerbosity:3\\nLossmodel:1\\nNum ISA  :1\\nISA 1    :1.5,0.8\\nNum burst:1\\nISA 1    :20,2\\n# END',\n",
       " PosixPath('temp/storage_coef_1.1/Post-Developed-Storage sizing_1.1x_Post-Developed-Storage sizing_ aep1_du2hourtp24.par'): '# BEGIN\\nCat file :Post-Developed-Storage sizing_1.1x.catg\\nStm file :Post-Developed-Storage sizing_ aep1_du2hourtp24.stm\\nLumped kc:T\\nVerbosity:3\\nLossmodel:1\\nNum ISA  :1\\nISA 1    :1.5,0.8\\nNum burst:1\\nISA 1    :20,2\\n# END',\n",
       " PosixPath('temp/storage_coef_1.1/Post-Developed-Storage sizing_1.1x_Post-Developed-Storage sizing_ aep1_du20mintp27.par'): '# BEGIN\\nCat file :Post-Developed-Storage sizing_1.1x.catg\\nStm file :Post-Developed-Storage sizing_ aep1_du20mintp27.stm\\nLumped kc:T\\nVerbosity:3\\nLossmodel:1\\nNum ISA  :1\\nISA 1    :1.5,0.8\\nNum burst:1\\nISA 1    :20,2\\n# END',\n",
       " PosixPath('temp/storage_coef_1.1/Post-Developed-Storage sizing_1.1x_Post-Developed-Storage sizing_ aep1_du4_5hourtp24.par'): '# BEGIN\\nCat file :Post-Developed-Storage sizing_1.1x.catg\\nStm file :Post-Developed-Storage sizing_ aep1_du4_5hourtp24.stm\\nLumped kc:T\\nVerbosity:3\\nLossmodel:1\\nNum ISA  :1\\nISA 1    :1.5,0.8\\nNum burst:1\\nISA 1    :20,2\\n# END',\n",
       " PosixPath('temp/storage_coef_1.1/Post-Developed-Storage sizing_1.1x_Post-Developed-Storage sizing_ aep1_du6hourtp23.par'): '# BEGIN\\nCat file :Post-Developed-Storage sizing_1.1x.catg\\nStm file :Post-Developed-Storage sizing_ aep1_du6hourtp23.stm\\nLumped kc:T\\nVerbosity:3\\nLossmodel:1\\nNum ISA  :1\\nISA 1    :1.5,0.8\\nNum burst:1\\nISA 1    :20,2\\n# END',\n",
       " PosixPath('temp/storage_coef_1.1/Post-Developed-Storage sizing_1.1x_Post-Developed-Storage sizing_ aep1_du30mintp22.par'): '# BEGIN\\nCat file :Post-Developed-Storage sizing_1.1x.catg\\nStm file :Post-Developed-Storage sizing_ aep1_du30mintp22.stm\\nLumped kc:T\\nVerbosity:3\\nLossmodel:1\\nNum ISA  :1\\nISA 1    :1.5,0.8\\nNum burst:1\\nISA 1    :20,2\\n# END',\n",
       " PosixPath('temp/storage_coef_1.1/Post-Developed-Storage sizing_1.1x_Post-Developed-Storage sizing_ aep1_du1hourtp28.par'): '# BEGIN\\nCat file :Post-Developed-Storage sizing_1.1x.catg\\nStm file :Post-Developed-Storage sizing_ aep1_du1hourtp28.stm\\nLumped kc:T\\nVerbosity:3\\nLossmodel:1\\nNum ISA  :1\\nISA 1    :1.5,0.8\\nNum burst:1\\nISA 1    :20,2\\n# END',\n",
       " PosixPath('temp/storage_coef_1.1/Post-Developed-Storage sizing_1.1x_Post-Developed-Storage sizing_ aep1_du4_5hourtp23.par'): '# BEGIN\\nCat file :Post-Developed-Storage sizing_1.1x.catg\\nStm file :Post-Developed-Storage sizing_ aep1_du4_5hourtp23.stm\\nLumped kc:T\\nVerbosity:3\\nLossmodel:1\\nNum ISA  :1\\nISA 1    :1.5,0.8\\nNum burst:1\\nISA 1    :20,2\\n# END',\n",
       " PosixPath('temp/storage_coef_1.1/Post-Developed-Storage sizing_1.1x_Post-Developed-Storage sizing_ aep1_du12hourtp21.par'): '# BEGIN\\nCat file :Post-Developed-Storage sizing_1.1x.catg\\nStm file :Post-Developed-Storage sizing_ aep1_du12hourtp21.stm\\nLumped kc:T\\nVerbosity:3\\nLossmodel:1\\nNum ISA  :1\\nISA 1    :1.5,0.8\\nNum burst:1\\nISA 1    :20,2\\n# END',\n",
       " PosixPath('temp/storage_coef_1.1/Post-Developed-Storage sizing_1.1x_Post-Developed-Storage sizing_ aep1_du9hourtp21.par'): '# BEGIN\\nCat file :Post-Developed-Storage sizing_1.1x.catg\\nStm file :Post-Developed-Storage sizing_ aep1_du9hourtp21.stm\\nLumped kc:T\\nVerbosity:3\\nLossmodel:1\\nNum ISA  :1\\nISA 1    :1.5,0.8\\nNum burst:1\\nISA 1    :20,2\\n# END',\n",
       " PosixPath('temp/storage_coef_1.1/Post-Developed-Storage sizing_1.1x_Post-Developed-Storage sizing_ aep1_du2hourtp26.par'): '# BEGIN\\nCat file :Post-Developed-Storage sizing_1.1x.catg\\nStm file :Post-Developed-Storage sizing_ aep1_du2hourtp26.stm\\nLumped kc:T\\nVerbosity:3\\nLossmodel:1\\nNum ISA  :1\\nISA 1    :1.5,0.8\\nNum burst:1\\nISA 1    :20,2\\n# END',\n",
       " PosixPath('temp/storage_coef_1.1/Post-Developed-Storage sizing_1.1x_Post-Developed-Storage sizing_ aep1_du25mintp25.par'): '# BEGIN\\nCat file :Post-Developed-Storage sizing_1.1x.catg\\nStm file :Post-Developed-Storage sizing_ aep1_du25mintp25.stm\\nLumped kc:T\\nVerbosity:3\\nLossmodel:1\\nNum ISA  :1\\nISA 1    :1.5,0.8\\nNum burst:1\\nISA 1    :20,2\\n# END',\n",
       " PosixPath('temp/storage_coef_1.1/Post-Developed-Storage sizing_1.1x_Post-Developed-Storage sizing_ aep1_du12hourtp23.par'): '# BEGIN\\nCat file :Post-Developed-Storage sizing_1.1x.catg\\nStm file :Post-Developed-Storage sizing_ aep1_du12hourtp23.stm\\nLumped kc:T\\nVerbosity:3\\nLossmodel:1\\nNum ISA  :1\\nISA 1    :1.5,0.8\\nNum burst:1\\nISA 1    :20,2\\n# END',\n",
       " PosixPath('temp/storage_coef_1.1/Post-Developed-Storage sizing_1.1x_Post-Developed-Storage sizing_ aep1_du3hourtp30.par'): '# BEGIN\\nCat file :Post-Developed-Storage sizing_1.1x.catg\\nStm file :Post-Developed-Storage sizing_ aep1_du3hourtp30.stm\\nLumped kc:T\\nVerbosity:3\\nLossmodel:1\\nNum ISA  :1\\nISA 1    :1.5,0.8\\nNum burst:1\\nISA 1    :20,2\\n# END',\n",
       " PosixPath('temp/storage_coef_1.1/Post-Developed-Storage sizing_1.1x_Post-Developed-Storage sizing_ aep1_du15mintp23.par'): '# BEGIN\\nCat file :Post-Developed-Storage sizing_1.1x.catg\\nStm file :Post-Developed-Storage sizing_ aep1_du15mintp23.stm\\nLumped kc:T\\nVerbosity:3\\nLossmodel:1\\nNum ISA  :1\\nISA 1    :1.5,0.8\\nNum burst:1\\nISA 1    :20,2\\n# END',\n",
       " PosixPath('temp/storage_coef_1.1/Post-Developed-Storage sizing_1.1x_Post-Developed-Storage sizing_ aep1_du18hourtp30.par'): '# BEGIN\\nCat file :Post-Developed-Storage sizing_1.1x.catg\\nStm file :Post-Developed-Storage sizing_ aep1_du18hourtp30.stm\\nLumped kc:T\\nVerbosity:3\\nLossmodel:1\\nNum ISA  :1\\nISA 1    :1.5,0.8\\nNum burst:1\\nISA 1    :20,2\\n# END',\n",
       " PosixPath('temp/storage_coef_1.1/Post-Developed-Storage sizing_1.1x_Post-Developed-Storage sizing_ aep1_du45mintp24.par'): '# BEGIN\\nCat file :Post-Developed-Storage sizing_1.1x.catg\\nStm file :Post-Developed-Storage sizing_ aep1_du45mintp24.stm\\nLumped kc:T\\nVerbosity:3\\nLossmodel:1\\nNum ISA  :1\\nISA 1    :1.5,0.8\\nNum burst:1\\nISA 1    :20,2\\n# END',\n",
       " PosixPath('temp/storage_coef_1.1/Post-Developed-Storage sizing_1.1x_Post-Developed-Storage sizing_ aep1_du25mintp21.par'): '# BEGIN\\nCat file :Post-Developed-Storage sizing_1.1x.catg\\nStm file :Post-Developed-Storage sizing_ aep1_du25mintp21.stm\\nLumped kc:T\\nVerbosity:3\\nLossmodel:1\\nNum ISA  :1\\nISA 1    :1.5,0.8\\nNum burst:1\\nISA 1    :20,2\\n# END',\n",
       " PosixPath('temp/storage_coef_1.1/Post-Developed-Storage sizing_1.1x_Post-Developed-Storage sizing_ aep1_du1hourtp21.par'): '# BEGIN\\nCat file :Post-Developed-Storage sizing_1.1x.catg\\nStm file :Post-Developed-Storage sizing_ aep1_du1hourtp21.stm\\nLumped kc:T\\nVerbosity:3\\nLossmodel:1\\nNum ISA  :1\\nISA 1    :1.5,0.8\\nNum burst:1\\nISA 1    :20,2\\n# END',\n",
       " PosixPath('temp/storage_coef_1.1/Post-Developed-Storage sizing_1.1x_Post-Developed-Storage sizing_ aep1_du2hourtp21.par'): '# BEGIN\\nCat file :Post-Developed-Storage sizing_1.1x.catg\\nStm file :Post-Developed-Storage sizing_ aep1_du2hourtp21.stm\\nLumped kc:T\\nVerbosity:3\\nLossmodel:1\\nNum ISA  :1\\nISA 1    :1.5,0.8\\nNum burst:1\\nISA 1    :20,2\\n# END',\n",
       " PosixPath('temp/storage_coef_1.1/Post-Developed-Storage sizing_1.1x_Post-Developed-Storage sizing_ aep1_du24hourtp27.par'): '# BEGIN\\nCat file :Post-Developed-Storage sizing_1.1x.catg\\nStm file :Post-Developed-Storage sizing_ aep1_du24hourtp27.stm\\nLumped kc:T\\nVerbosity:3\\nLossmodel:1\\nNum ISA  :1\\nISA 1    :1.5,0.8\\nNum burst:1\\nISA 1    :20,2\\n# END',\n",
       " PosixPath('temp/storage_coef_1.1/Post-Developed-Storage sizing_1.1x_Post-Developed-Storage sizing_ aep1_du2hourtp30.par'): '# BEGIN\\nCat file :Post-Developed-Storage sizing_1.1x.catg\\nStm file :Post-Developed-Storage sizing_ aep1_du2hourtp30.stm\\nLumped kc:T\\nVerbosity:3\\nLossmodel:1\\nNum ISA  :1\\nISA 1    :1.5,0.8\\nNum burst:1\\nISA 1    :20,2\\n# END',\n",
       " PosixPath('temp/storage_coef_1.1/Post-Developed-Storage sizing_1.1x_Post-Developed-Storage sizing_ aep1_du4_5hourtp26.par'): '# BEGIN\\nCat file :Post-Developed-Storage sizing_1.1x.catg\\nStm file :Post-Developed-Storage sizing_ aep1_du4_5hourtp26.stm\\nLumped kc:T\\nVerbosity:3\\nLossmodel:1\\nNum ISA  :1\\nISA 1    :1.5,0.8\\nNum burst:1\\nISA 1    :20,2\\n# END',\n",
       " PosixPath('temp/storage_coef_1.1/Post-Developed-Storage sizing_1.1x_Post-Developed-Storage sizing_ aep1_du1_5hourtp28.par'): '# BEGIN\\nCat file :Post-Developed-Storage sizing_1.1x.catg\\nStm file :Post-Developed-Storage sizing_ aep1_du1_5hourtp28.stm\\nLumped kc:T\\nVerbosity:3\\nLossmodel:1\\nNum ISA  :1\\nISA 1    :1.5,0.8\\nNum burst:1\\nISA 1    :20,2\\n# END',\n",
       " PosixPath('temp/storage_coef_1.1/Post-Developed-Storage sizing_1.1x_Post-Developed-Storage sizing_ aep1_du18hourtp27.par'): '# BEGIN\\nCat file :Post-Developed-Storage sizing_1.1x.catg\\nStm file :Post-Developed-Storage sizing_ aep1_du18hourtp27.stm\\nLumped kc:T\\nVerbosity:3\\nLossmodel:1\\nNum ISA  :1\\nISA 1    :1.5,0.8\\nNum burst:1\\nISA 1    :20,2\\n# END',\n",
       " PosixPath('temp/storage_coef_1.1/Post-Developed-Storage sizing_1.1x_Post-Developed-Storage sizing_ aep1_du3hourtp21.par'): '# BEGIN\\nCat file :Post-Developed-Storage sizing_1.1x.catg\\nStm file :Post-Developed-Storage sizing_ aep1_du3hourtp21.stm\\nLumped kc:T\\nVerbosity:3\\nLossmodel:1\\nNum ISA  :1\\nISA 1    :1.5,0.8\\nNum burst:1\\nISA 1    :20,2\\n# END',\n",
       " PosixPath('temp/storage_coef_1.1/Post-Developed-Storage sizing_1.1x_Post-Developed-Storage sizing_ aep1_du30mintp26.par'): '# BEGIN\\nCat file :Post-Developed-Storage sizing_1.1x.catg\\nStm file :Post-Developed-Storage sizing_ aep1_du30mintp26.stm\\nLumped kc:T\\nVerbosity:3\\nLossmodel:1\\nNum ISA  :1\\nISA 1    :1.5,0.8\\nNum burst:1\\nISA 1    :20,2\\n# END',\n",
       " PosixPath('temp/storage_coef_1.1/Post-Developed-Storage sizing_1.1x_Post-Developed-Storage sizing_ aep1_du15mintp22.par'): '# BEGIN\\nCat file :Post-Developed-Storage sizing_1.1x.catg\\nStm file :Post-Developed-Storage sizing_ aep1_du15mintp22.stm\\nLumped kc:T\\nVerbosity:3\\nLossmodel:1\\nNum ISA  :1\\nISA 1    :1.5,0.8\\nNum burst:1\\nISA 1    :20,2\\n# END',\n",
       " PosixPath('temp/storage_coef_1.1/Post-Developed-Storage sizing_1.1x_Post-Developed-Storage sizing_ aep1_du24hourtp28.par'): '# BEGIN\\nCat file :Post-Developed-Storage sizing_1.1x.catg\\nStm file :Post-Developed-Storage sizing_ aep1_du24hourtp28.stm\\nLumped kc:T\\nVerbosity:3\\nLossmodel:1\\nNum ISA  :1\\nISA 1    :1.5,0.8\\nNum burst:1\\nISA 1    :20,2\\n# END',\n",
       " PosixPath('temp/storage_coef_1.1/Post-Developed-Storage sizing_1.1x_Post-Developed-Storage sizing_ aep1_du18hourtp26.par'): '# BEGIN\\nCat file :Post-Developed-Storage sizing_1.1x.catg\\nStm file :Post-Developed-Storage sizing_ aep1_du18hourtp26.stm\\nLumped kc:T\\nVerbosity:3\\nLossmodel:1\\nNum ISA  :1\\nISA 1    :1.5,0.8\\nNum burst:1\\nISA 1    :20,2\\n# END',\n",
       " PosixPath('temp/storage_coef_1.1/Post-Developed-Storage sizing_1.1x_Post-Developed-Storage sizing_ aep1_du12hourtp25.par'): '# BEGIN\\nCat file :Post-Developed-Storage sizing_1.1x.catg\\nStm file :Post-Developed-Storage sizing_ aep1_du12hourtp25.stm\\nLumped kc:T\\nVerbosity:3\\nLossmodel:1\\nNum ISA  :1\\nISA 1    :1.5,0.8\\nNum burst:1\\nISA 1    :20,2\\n# END',\n",
       " PosixPath('temp/storage_coef_1.1/Post-Developed-Storage sizing_1.1x_Post-Developed-Storage sizing_ aep1_du10mintp22.par'): '# BEGIN\\nCat file :Post-Developed-Storage sizing_1.1x.catg\\nStm file :Post-Developed-Storage sizing_ aep1_du10mintp22.stm\\nLumped kc:T\\nVerbosity:3\\nLossmodel:1\\nNum ISA  :1\\nISA 1    :1.5,0.8\\nNum burst:1\\nISA 1    :20,2\\n# END',\n",
       " PosixPath('temp/storage_coef_1.1/Post-Developed-Storage sizing_1.1x_Post-Developed-Storage sizing_ aep1_du30mintp21.par'): '# BEGIN\\nCat file :Post-Developed-Storage sizing_1.1x.catg\\nStm file :Post-Developed-Storage sizing_ aep1_du30mintp21.stm\\nLumped kc:T\\nVerbosity:3\\nLossmodel:1\\nNum ISA  :1\\nISA 1    :1.5,0.8\\nNum burst:1\\nISA 1    :20,2\\n# END'}"
      ]
     },
     "execution_count": 5,
     "metadata": {},
     "output_type": "execute_result"
    }
   ],
   "source": [
    "processor.parameters"
   ]
  },
  {
   "cell_type": "code",
   "execution_count": 16,
   "metadata": {},
   "outputs": [
    {
     "name": "stdout",
     "output_type": "stream",
     "text": [
      "temp/3c5acb29-1dd0-4768-a97d-689b3e780019/Post-Developed-Storage sizingff27.catg\n"
     ]
    }
   ],
   "source": [
    "processor.cleanup()"
   ]
  },
  {
   "cell_type": "code",
   "execution_count": null,
   "metadata": {},
   "outputs": [],
   "source": []
  }
 ],
 "metadata": {
  "kernelspec": {
   "display_name": ".venv",
   "language": "python",
   "name": "python3"
  },
  "language_info": {
   "codemirror_mode": {
    "name": "ipython",
    "version": 3
   },
   "file_extension": ".py",
   "mimetype": "text/x-python",
   "name": "python",
   "nbconvert_exporter": "python",
   "pygments_lexer": "ipython3",
   "version": "3.11.8"
  }
 },
 "nbformat": 4,
 "nbformat_minor": 2
}
